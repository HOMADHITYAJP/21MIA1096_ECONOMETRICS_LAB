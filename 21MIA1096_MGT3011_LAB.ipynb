{
  "nbformat": 4,
  "nbformat_minor": 0,
  "metadata": {
    "colab": {
      "provenance": []
    },
    "kernelspec": {
      "name": "python3",
      "display_name": "Python 3"
    },
    "language_info": {
      "name": "python"
    }
  },
  "cells": [
    {
      "cell_type": "markdown",
      "source": [
        "#MGT3011 – ECONOMETRICS\n",
        "#Econometrics Experiments Assignment\n",
        "##Homadhitya J P (21MIA1096)\n"
      ],
      "metadata": {
        "id": "TaoN8AWUik2c"
      }
    },
    {
      "cell_type": "markdown",
      "source": [
        "#BANK OF BARODA STOCKS DATA"
      ],
      "metadata": {
        "id": "AKEAS_MG7n19"
      }
    },
    {
      "cell_type": "code",
      "source": [
        "import pandas as pd\n",
        "\n",
        "df = pd.read_csv('bankofbarodamain.csv')\n",
        "\n",
        "df = df.dropna()\n",
        "\n",
        "df.head()"
      ],
      "metadata": {
        "colab": {
          "base_uri": "https://localhost:8080/",
          "height": 310
        },
        "id": "SY7ehyWe83mI",
        "outputId": "a1ac9eaa-0e5c-4e5b-ba65-b85d22104da2"
      },
      "execution_count": null,
      "outputs": [
        {
          "output_type": "execute_result",
          "data": {
            "text/plain": [
              "         Date       Open       High        Low      Close  Adj Close  \\\n",
              "0  2019-08-22  94.199997  94.949997  89.750000  90.550003  83.042824   \n",
              "1  2019-08-23  90.599998  94.550003  90.000000  93.449997  85.702393   \n",
              "2  2019-08-26  99.750000  99.800003  91.500000  95.050003  87.169746   \n",
              "3  2019-08-27  97.199997  99.199997  96.599998  97.250000  89.187347   \n",
              "4  2019-08-28  97.400002  97.650002  93.800003  94.500000  86.665337   \n",
              "\n",
              "      Volume  \n",
              "0  1523095.0  \n",
              "1  1604894.0  \n",
              "2  2701594.0  \n",
              "3  2123031.0  \n",
              "4  1273207.0  "
            ],
            "text/html": [
              "\n",
              "  <div id=\"df-bf1de97c-0302-40c8-af4f-7370dbb7227a\" class=\"colab-df-container\">\n",
              "    <div>\n",
              "<style scoped>\n",
              "    .dataframe tbody tr th:only-of-type {\n",
              "        vertical-align: middle;\n",
              "    }\n",
              "\n",
              "    .dataframe tbody tr th {\n",
              "        vertical-align: top;\n",
              "    }\n",
              "\n",
              "    .dataframe thead th {\n",
              "        text-align: right;\n",
              "    }\n",
              "</style>\n",
              "<table border=\"1\" class=\"dataframe\">\n",
              "  <thead>\n",
              "    <tr style=\"text-align: right;\">\n",
              "      <th></th>\n",
              "      <th>Date</th>\n",
              "      <th>Open</th>\n",
              "      <th>High</th>\n",
              "      <th>Low</th>\n",
              "      <th>Close</th>\n",
              "      <th>Adj Close</th>\n",
              "      <th>Volume</th>\n",
              "    </tr>\n",
              "  </thead>\n",
              "  <tbody>\n",
              "    <tr>\n",
              "      <th>0</th>\n",
              "      <td>2019-08-22</td>\n",
              "      <td>94.199997</td>\n",
              "      <td>94.949997</td>\n",
              "      <td>89.750000</td>\n",
              "      <td>90.550003</td>\n",
              "      <td>83.042824</td>\n",
              "      <td>1523095.0</td>\n",
              "    </tr>\n",
              "    <tr>\n",
              "      <th>1</th>\n",
              "      <td>2019-08-23</td>\n",
              "      <td>90.599998</td>\n",
              "      <td>94.550003</td>\n",
              "      <td>90.000000</td>\n",
              "      <td>93.449997</td>\n",
              "      <td>85.702393</td>\n",
              "      <td>1604894.0</td>\n",
              "    </tr>\n",
              "    <tr>\n",
              "      <th>2</th>\n",
              "      <td>2019-08-26</td>\n",
              "      <td>99.750000</td>\n",
              "      <td>99.800003</td>\n",
              "      <td>91.500000</td>\n",
              "      <td>95.050003</td>\n",
              "      <td>87.169746</td>\n",
              "      <td>2701594.0</td>\n",
              "    </tr>\n",
              "    <tr>\n",
              "      <th>3</th>\n",
              "      <td>2019-08-27</td>\n",
              "      <td>97.199997</td>\n",
              "      <td>99.199997</td>\n",
              "      <td>96.599998</td>\n",
              "      <td>97.250000</td>\n",
              "      <td>89.187347</td>\n",
              "      <td>2123031.0</td>\n",
              "    </tr>\n",
              "    <tr>\n",
              "      <th>4</th>\n",
              "      <td>2019-08-28</td>\n",
              "      <td>97.400002</td>\n",
              "      <td>97.650002</td>\n",
              "      <td>93.800003</td>\n",
              "      <td>94.500000</td>\n",
              "      <td>86.665337</td>\n",
              "      <td>1273207.0</td>\n",
              "    </tr>\n",
              "  </tbody>\n",
              "</table>\n",
              "</div>\n",
              "    <div class=\"colab-df-buttons\">\n",
              "\n",
              "  <div class=\"colab-df-container\">\n",
              "    <button class=\"colab-df-convert\" onclick=\"convertToInteractive('df-bf1de97c-0302-40c8-af4f-7370dbb7227a')\"\n",
              "            title=\"Convert this dataframe to an interactive table.\"\n",
              "            style=\"display:none;\">\n",
              "\n",
              "  <svg xmlns=\"http://www.w3.org/2000/svg\" height=\"24px\" viewBox=\"0 -960 960 960\">\n",
              "    <path d=\"M120-120v-720h720v720H120Zm60-500h600v-160H180v160Zm220 220h160v-160H400v160Zm0 220h160v-160H400v160ZM180-400h160v-160H180v160Zm440 0h160v-160H620v160ZM180-180h160v-160H180v160Zm440 0h160v-160H620v160Z\"/>\n",
              "  </svg>\n",
              "    </button>\n",
              "\n",
              "  <style>\n",
              "    .colab-df-container {\n",
              "      display:flex;\n",
              "      gap: 12px;\n",
              "    }\n",
              "\n",
              "    .colab-df-convert {\n",
              "      background-color: #E8F0FE;\n",
              "      border: none;\n",
              "      border-radius: 50%;\n",
              "      cursor: pointer;\n",
              "      display: none;\n",
              "      fill: #1967D2;\n",
              "      height: 32px;\n",
              "      padding: 0 0 0 0;\n",
              "      width: 32px;\n",
              "    }\n",
              "\n",
              "    .colab-df-convert:hover {\n",
              "      background-color: #E2EBFA;\n",
              "      box-shadow: 0px 1px 2px rgba(60, 64, 67, 0.3), 0px 1px 3px 1px rgba(60, 64, 67, 0.15);\n",
              "      fill: #174EA6;\n",
              "    }\n",
              "\n",
              "    .colab-df-buttons div {\n",
              "      margin-bottom: 4px;\n",
              "    }\n",
              "\n",
              "    [theme=dark] .colab-df-convert {\n",
              "      background-color: #3B4455;\n",
              "      fill: #D2E3FC;\n",
              "    }\n",
              "\n",
              "    [theme=dark] .colab-df-convert:hover {\n",
              "      background-color: #434B5C;\n",
              "      box-shadow: 0px 1px 3px 1px rgba(0, 0, 0, 0.15);\n",
              "      filter: drop-shadow(0px 1px 2px rgba(0, 0, 0, 0.3));\n",
              "      fill: #FFFFFF;\n",
              "    }\n",
              "  </style>\n",
              "\n",
              "    <script>\n",
              "      const buttonEl =\n",
              "        document.querySelector('#df-bf1de97c-0302-40c8-af4f-7370dbb7227a button.colab-df-convert');\n",
              "      buttonEl.style.display =\n",
              "        google.colab.kernel.accessAllowed ? 'block' : 'none';\n",
              "\n",
              "      async function convertToInteractive(key) {\n",
              "        const element = document.querySelector('#df-bf1de97c-0302-40c8-af4f-7370dbb7227a');\n",
              "        const dataTable =\n",
              "          await google.colab.kernel.invokeFunction('convertToInteractive',\n",
              "                                                    [key], {});\n",
              "        if (!dataTable) return;\n",
              "\n",
              "        const docLinkHtml = 'Like what you see? Visit the ' +\n",
              "          '<a target=\"_blank\" href=https://colab.research.google.com/notebooks/data_table.ipynb>data table notebook</a>'\n",
              "          + ' to learn more about interactive tables.';\n",
              "        element.innerHTML = '';\n",
              "        dataTable['output_type'] = 'display_data';\n",
              "        await google.colab.output.renderOutput(dataTable, element);\n",
              "        const docLink = document.createElement('div');\n",
              "        docLink.innerHTML = docLinkHtml;\n",
              "        element.appendChild(docLink);\n",
              "      }\n",
              "    </script>\n",
              "  </div>\n",
              "\n",
              "\n",
              "<div id=\"df-2c6819af-aca8-467e-a459-0f116c4621c3\">\n",
              "  <button class=\"colab-df-quickchart\" onclick=\"quickchart('df-2c6819af-aca8-467e-a459-0f116c4621c3')\"\n",
              "            title=\"Suggest charts\"\n",
              "            style=\"display:none;\">\n",
              "\n",
              "<svg xmlns=\"http://www.w3.org/2000/svg\" height=\"24px\"viewBox=\"0 0 24 24\"\n",
              "     width=\"24px\">\n",
              "    <g>\n",
              "        <path d=\"M19 3H5c-1.1 0-2 .9-2 2v14c0 1.1.9 2 2 2h14c1.1 0 2-.9 2-2V5c0-1.1-.9-2-2-2zM9 17H7v-7h2v7zm4 0h-2V7h2v10zm4 0h-2v-4h2v4z\"/>\n",
              "    </g>\n",
              "</svg>\n",
              "  </button>\n",
              "\n",
              "<style>\n",
              "  .colab-df-quickchart {\n",
              "      --bg-color: #E8F0FE;\n",
              "      --fill-color: #1967D2;\n",
              "      --hover-bg-color: #E2EBFA;\n",
              "      --hover-fill-color: #174EA6;\n",
              "      --disabled-fill-color: #AAA;\n",
              "      --disabled-bg-color: #DDD;\n",
              "  }\n",
              "\n",
              "  [theme=dark] .colab-df-quickchart {\n",
              "      --bg-color: #3B4455;\n",
              "      --fill-color: #D2E3FC;\n",
              "      --hover-bg-color: #434B5C;\n",
              "      --hover-fill-color: #FFFFFF;\n",
              "      --disabled-bg-color: #3B4455;\n",
              "      --disabled-fill-color: #666;\n",
              "  }\n",
              "\n",
              "  .colab-df-quickchart {\n",
              "    background-color: var(--bg-color);\n",
              "    border: none;\n",
              "    border-radius: 50%;\n",
              "    cursor: pointer;\n",
              "    display: none;\n",
              "    fill: var(--fill-color);\n",
              "    height: 32px;\n",
              "    padding: 0;\n",
              "    width: 32px;\n",
              "  }\n",
              "\n",
              "  .colab-df-quickchart:hover {\n",
              "    background-color: var(--hover-bg-color);\n",
              "    box-shadow: 0 1px 2px rgba(60, 64, 67, 0.3), 0 1px 3px 1px rgba(60, 64, 67, 0.15);\n",
              "    fill: var(--button-hover-fill-color);\n",
              "  }\n",
              "\n",
              "  .colab-df-quickchart-complete:disabled,\n",
              "  .colab-df-quickchart-complete:disabled:hover {\n",
              "    background-color: var(--disabled-bg-color);\n",
              "    fill: var(--disabled-fill-color);\n",
              "    box-shadow: none;\n",
              "  }\n",
              "\n",
              "  .colab-df-spinner {\n",
              "    border: 2px solid var(--fill-color);\n",
              "    border-color: transparent;\n",
              "    border-bottom-color: var(--fill-color);\n",
              "    animation:\n",
              "      spin 1s steps(1) infinite;\n",
              "  }\n",
              "\n",
              "  @keyframes spin {\n",
              "    0% {\n",
              "      border-color: transparent;\n",
              "      border-bottom-color: var(--fill-color);\n",
              "      border-left-color: var(--fill-color);\n",
              "    }\n",
              "    20% {\n",
              "      border-color: transparent;\n",
              "      border-left-color: var(--fill-color);\n",
              "      border-top-color: var(--fill-color);\n",
              "    }\n",
              "    30% {\n",
              "      border-color: transparent;\n",
              "      border-left-color: var(--fill-color);\n",
              "      border-top-color: var(--fill-color);\n",
              "      border-right-color: var(--fill-color);\n",
              "    }\n",
              "    40% {\n",
              "      border-color: transparent;\n",
              "      border-right-color: var(--fill-color);\n",
              "      border-top-color: var(--fill-color);\n",
              "    }\n",
              "    60% {\n",
              "      border-color: transparent;\n",
              "      border-right-color: var(--fill-color);\n",
              "    }\n",
              "    80% {\n",
              "      border-color: transparent;\n",
              "      border-right-color: var(--fill-color);\n",
              "      border-bottom-color: var(--fill-color);\n",
              "    }\n",
              "    90% {\n",
              "      border-color: transparent;\n",
              "      border-bottom-color: var(--fill-color);\n",
              "    }\n",
              "  }\n",
              "</style>\n",
              "\n",
              "  <script>\n",
              "    async function quickchart(key) {\n",
              "      const quickchartButtonEl =\n",
              "        document.querySelector('#' + key + ' button');\n",
              "      quickchartButtonEl.disabled = true;  // To prevent multiple clicks.\n",
              "      quickchartButtonEl.classList.add('colab-df-spinner');\n",
              "      try {\n",
              "        const charts = await google.colab.kernel.invokeFunction(\n",
              "            'suggestCharts', [key], {});\n",
              "      } catch (error) {\n",
              "        console.error('Error during call to suggestCharts:', error);\n",
              "      }\n",
              "      quickchartButtonEl.classList.remove('colab-df-spinner');\n",
              "      quickchartButtonEl.classList.add('colab-df-quickchart-complete');\n",
              "    }\n",
              "    (() => {\n",
              "      let quickchartButtonEl =\n",
              "        document.querySelector('#df-2c6819af-aca8-467e-a459-0f116c4621c3 button');\n",
              "      quickchartButtonEl.style.display =\n",
              "        google.colab.kernel.accessAllowed ? 'block' : 'none';\n",
              "    })();\n",
              "  </script>\n",
              "</div>\n",
              "\n",
              "    </div>\n",
              "  </div>\n"
            ],
            "application/vnd.google.colaboratory.intrinsic+json": {
              "type": "dataframe",
              "variable_name": "df",
              "summary": "{\n  \"name\": \"df\",\n  \"rows\": 1216,\n  \"fields\": [\n    {\n      \"column\": \"Date\",\n      \"properties\": {\n        \"dtype\": \"object\",\n        \"num_unique_values\": 1216,\n        \"samples\": [\n          \"2021-11-01\",\n          \"2020-09-11\",\n          \"2019-10-29\"\n        ],\n        \"semantic_type\": \"\",\n        \"description\": \"\"\n      }\n    },\n    {\n      \"column\": \"Open\",\n      \"properties\": {\n        \"dtype\": \"number\",\n        \"std\": 69.37858411217678,\n        \"min\": 36.299999,\n        \"max\": 296.450012,\n        \"num_unique_values\": 948,\n        \"samples\": [\n          164.300003,\n          257.350006,\n          51.25\n        ],\n        \"semantic_type\": \"\",\n        \"description\": \"\"\n      }\n    },\n    {\n      \"column\": \"High\",\n      \"properties\": {\n        \"dtype\": \"number\",\n        \"std\": 70.10205201109187,\n        \"min\": 37.200001,\n        \"max\": 298.450012,\n        \"num_unique_values\": 982,\n        \"samples\": [\n          197.300003,\n          203.75,\n          261.0\n        ],\n        \"semantic_type\": \"\",\n        \"description\": \"\"\n      }\n    },\n    {\n      \"column\": \"Low\",\n      \"properties\": {\n        \"dtype\": \"number\",\n        \"std\": 68.52000311320195,\n        \"min\": 36.049999,\n        \"max\": 285.0,\n        \"num_unique_values\": 1006,\n        \"samples\": [\n          259.700012,\n          190.0,\n          153.600006\n        ],\n        \"semantic_type\": \"\",\n        \"description\": \"\"\n      }\n    },\n    {\n      \"column\": \"Close\",\n      \"properties\": {\n        \"dtype\": \"number\",\n        \"std\": 69.31847797234401,\n        \"min\": 36.5,\n        \"max\": 296.649994,\n        \"num_unique_values\": 991,\n        \"samples\": [\n          45.049999,\n          63.200001,\n          111.199997\n        ],\n        \"semantic_type\": \"\",\n        \"description\": \"\"\n      }\n    },\n    {\n      \"column\": \"Adj Close\",\n      \"properties\": {\n        \"dtype\": \"number\",\n        \"std\": 69.04416791665106,\n        \"min\": 33.473915,\n        \"max\": 288.595184,\n        \"num_unique_values\": 1003,\n        \"samples\": [\n          158.519577,\n          162.298355,\n          214.026443\n        ],\n        \"semantic_type\": \"\",\n        \"description\": \"\"\n      }\n    },\n    {\n      \"column\": \"Volume\",\n      \"properties\": {\n        \"dtype\": \"number\",\n        \"std\": 1721565.4430321055,\n        \"min\": 180857.0,\n        \"max\": 24427140.0,\n        \"num_unique_values\": 1216,\n        \"samples\": [\n          1463141.0,\n          2774706.0,\n          1386730.0\n        ],\n        \"semantic_type\": \"\",\n        \"description\": \"\"\n      }\n    }\n  ]\n}"
            }
          },
          "metadata": {},
          "execution_count": 1
        }
      ]
    },
    {
      "cell_type": "markdown",
      "source": [
        "#1. DW - Durbin-Watson Statistic"
      ],
      "metadata": {
        "id": "Q9htnAAk8rku"
      }
    },
    {
      "cell_type": "code",
      "execution_count": null,
      "metadata": {
        "colab": {
          "base_uri": "https://localhost:8080/"
        },
        "id": "W1oekrTi3aN4",
        "outputId": "b0a6405b-f42b-4ba1-e349-e0d54444966a"
      },
      "outputs": [
        {
          "output_type": "stream",
          "name": "stdout",
          "text": [
            "H0 (Null Hypothesis): No Autocorrelation.\n",
            "HA (Alternative Hypothesis): Autocorrelation exists.\n",
            "Durbin-Watson Statistic: 0.012467857417160819\n",
            "Reject H0: Autocorrelation exists.\n"
          ]
        }
      ],
      "source": [
        "import statsmodels.api as sm\n",
        "from statsmodels.stats.stattools import durbin_watson\n",
        "\n",
        "close_prices = df['Close']\n",
        "X = sm.add_constant(range(len(close_prices)))\n",
        "model = sm.OLS(close_prices, X).fit()\n",
        "dw_statistic = durbin_watson(model.resid)\n",
        "\n",
        "# Hypotheses\n",
        "print(\"H0 (Null Hypothesis): No Autocorrelation.\")\n",
        "print(\"HA (Alternative Hypothesis): Autocorrelation exists.\")\n",
        "\n",
        "print(f\"Durbin-Watson Statistic: {dw_statistic}\")\n",
        "if dw_statistic < 1.5 or dw_statistic > 2.5:\n",
        "    print(\"Reject H0: Autocorrelation exists.\")\n",
        "else:\n",
        "    print(\"Fail to Reject H0: No Autocorrelation.\")\n"
      ]
    },
    {
      "cell_type": "markdown",
      "source": [
        "#2. BPG - Breusch-Pagan Test (Autocorrelation)"
      ],
      "metadata": {
        "id": "XXVFAANy9QZH"
      }
    },
    {
      "cell_type": "code",
      "source": [
        "from statsmodels.stats.diagnostic import acorr_breusch_godfrey\n",
        "\n",
        "bg_test = acorr_breusch_godfrey(model, nlags=1)\n",
        "\n",
        "# Hypotheses\n",
        "print(\"H0 (Null Hypothesis): No Autocorrelation.\")\n",
        "print(\"HA (Alternative Hypothesis): Autocorrelation exists.\")\n",
        "\n",
        "print(f\"Breusch-Godfrey Test Statistic: {bg_test[0]}\")\n",
        "print(f\"P-Value: {bg_test[1]}\")\n",
        "\n",
        "alpha = 0.05\n",
        "if bg_test[1] < alpha:\n",
        "    print(\"Reject H0: Autocorrelation exists.\")\n",
        "else:\n",
        "    print(\"Fail to Reject H0: No Autocorrelation.\")\n"
      ],
      "metadata": {
        "colab": {
          "base_uri": "https://localhost:8080/"
        },
        "id": "MeJsX9AG8zjf",
        "outputId": "2680f756-640a-43e3-eebd-51ef2ce7bef7"
      },
      "execution_count": null,
      "outputs": [
        {
          "output_type": "stream",
          "name": "stdout",
          "text": [
            "H0 (Null Hypothesis): No Autocorrelation.\n",
            "HA (Alternative Hypothesis): Autocorrelation exists.\n",
            "Breusch-Godfrey Test Statistic: 1196.1546466875134\n",
            "P-Value: 4.178330568201085e-262\n",
            "Reject H0: Autocorrelation exists.\n"
          ]
        }
      ]
    },
    {
      "cell_type": "markdown",
      "source": [
        "#3. ARCH - Autoregressive Conditional Heteroskedasticity Lagrange Multiplier"
      ],
      "metadata": {
        "id": "MkyopeiC9cW2"
      }
    },
    {
      "cell_type": "code",
      "source": [
        "from statsmodels.stats.diagnostic import het_arch\n",
        "\n",
        "arch_test = het_arch(model.resid)\n",
        "\n",
        "# Hypotheses\n",
        "print(\"H0 (Null Hypothesis): No Heteroscedasticity.\")\n",
        "print(\"HA (Alternative Hypothesis): Heteroscedasticity exists.\")\n",
        "\n",
        "print(f\"ARCH LM Test Statistic: {arch_test[0]}\")\n",
        "print(f\"P-Value: {arch_test[1]}\")\n",
        "\n",
        "alpha = 0.05\n",
        "if arch_test[1] < alpha:\n",
        "    print(\"Reject H0: Heteroscedasticity exists.\")\n",
        "else:\n",
        "    print(\"Fail to Reject H0: No Heteroscedasticity.\")\n"
      ],
      "metadata": {
        "colab": {
          "base_uri": "https://localhost:8080/"
        },
        "id": "ut0DvKHR9D4x",
        "outputId": "5525ebb0-5a21-4ba6-eade-36d146ef6d86"
      },
      "execution_count": null,
      "outputs": [
        {
          "output_type": "stream",
          "name": "stdout",
          "text": [
            "H0 (Null Hypothesis): No Heteroscedasticity.\n",
            "HA (Alternative Hypothesis): Heteroscedasticity exists.\n",
            "ARCH LM Test Statistic: 1160.6002663039778\n",
            "P-Value: 4.531609738997045e-243\n",
            "Reject H0: Heteroscedasticity exists.\n"
          ]
        }
      ]
    },
    {
      "cell_type": "markdown",
      "source": [
        "#4. BP - Breusch-Pagan Test (Heteroscedasticity)"
      ],
      "metadata": {
        "id": "tAp4pzo89ia3"
      }
    },
    {
      "cell_type": "code",
      "source": [
        "from statsmodels.stats.diagnostic import het_breuschpagan\n",
        "\n",
        "bp_test = het_breuschpagan(model.resid, model.model.exog)\n",
        "\n",
        "# Hypotheses\n",
        "print(\"H0 (Null Hypothesis): No Heteroscedasticity.\")\n",
        "print(\"HA (Alternative Hypothesis): Heteroscedasticity exists.\")\n",
        "\n",
        "print(f\"Breusch-Pagan Test Statistic: {bp_test[0]}\")\n",
        "print(f\"P-Value: {bp_test[1]}\")\n",
        "\n",
        "alpha = 0.05\n",
        "if bp_test[1] < alpha:\n",
        "    print(\"Reject H0: Heteroscedasticity exists.\")\n",
        "else:\n",
        "    print(\"Fail to Reject H0: No Heteroscedasticity.\")\n"
      ],
      "metadata": {
        "colab": {
          "base_uri": "https://localhost:8080/"
        },
        "id": "Z-J7qsT49GoY",
        "outputId": "0f01b853-63ac-4367-e08d-8d701a6d2226"
      },
      "execution_count": null,
      "outputs": [
        {
          "output_type": "stream",
          "name": "stdout",
          "text": [
            "H0 (Null Hypothesis): No Heteroscedasticity.\n",
            "HA (Alternative Hypothesis): Heteroscedasticity exists.\n",
            "Breusch-Pagan Test Statistic: 104.40807757546123\n",
            "P-Value: 1.646579242051769e-24\n",
            "Reject H0: Heteroscedasticity exists.\n"
          ]
        }
      ]
    },
    {
      "cell_type": "markdown",
      "source": [
        "#5. VIF - Variance Inflation Factor (Multicollinearity)"
      ],
      "metadata": {
        "id": "OO2w04eR9mic"
      }
    },
    {
      "cell_type": "code",
      "source": [
        "from statsmodels.stats.outliers_influence import variance_inflation_factor\n",
        "import pandas as pd\n",
        "\n",
        "X = df[['Open', 'High', 'Low', 'Close', 'Adj Close', 'Volume']]\n",
        "X = sm.add_constant(X)\n",
        "vif_data = pd.DataFrame()\n",
        "vif_data['Variable'] = X.columns\n",
        "vif_data['VIF'] = [variance_inflation_factor(X.values, i) for i in range(X.shape[1])]\n",
        "\n",
        "# Hypotheses\n",
        "print(\"H0 (Null Hypothesis): No Multicollinearity (acceptable VIF values).\")\n",
        "print(\"HA (Alternative Hypothesis): Multicollinearity exists (high VIF values).\")\n",
        "\n",
        "print(vif_data)\n",
        "\n",
        "threshold = 10\n",
        "for i, row in vif_data.iterrows():\n",
        "    if row['VIF'] > threshold:\n",
        "        print(f\"Reject H0: Variable '{row['Variable']}' has high VIF, indicating multicollinearity.\")\n",
        "    else:\n",
        "        print(f\"Fail to Reject H0: Variable '{row['Variable']}' has acceptable VIF.\")\n"
      ],
      "metadata": {
        "colab": {
          "base_uri": "https://localhost:8080/"
        },
        "id": "tM78eRsG9Iyp",
        "outputId": "2377ca87-36d0-4f25-caff-6bd3281456da"
      },
      "execution_count": null,
      "outputs": [
        {
          "output_type": "stream",
          "name": "stdout",
          "text": [
            "H0 (Null Hypothesis): No Multicollinearity (acceptable VIF values).\n",
            "HA (Alternative Hypothesis): Multicollinearity exists (high VIF values).\n",
            "    Variable          VIF\n",
            "0      const    16.402930\n",
            "1       Open  2779.040979\n",
            "2       High  4325.320059\n",
            "3        Low  2533.525264\n",
            "4      Close  4261.626178\n",
            "5  Adj Close  1031.792378\n",
            "6     Volume     1.387907\n",
            "Reject H0: Variable 'const' has high VIF, indicating multicollinearity.\n",
            "Reject H0: Variable 'Open' has high VIF, indicating multicollinearity.\n",
            "Reject H0: Variable 'High' has high VIF, indicating multicollinearity.\n",
            "Reject H0: Variable 'Low' has high VIF, indicating multicollinearity.\n",
            "Reject H0: Variable 'Close' has high VIF, indicating multicollinearity.\n",
            "Reject H0: Variable 'Adj Close' has high VIF, indicating multicollinearity.\n",
            "Fail to Reject H0: Variable 'Volume' has acceptable VIF.\n"
          ]
        }
      ]
    },
    {
      "cell_type": "markdown",
      "source": [
        "#6. Z1 - Z-Test: One Sample"
      ],
      "metadata": {
        "id": "NkWtg6GN9p9P"
      }
    },
    {
      "cell_type": "code",
      "source": [
        "import numpy as np\n",
        "import scipy.stats as stats\n",
        "\n",
        "population_mean = 95\n",
        "sample_mean = np.mean(df['Close'])\n",
        "sample_std = np.std(df['Close'], ddof=1)\n",
        "n = len(df['Close'])\n",
        "\n",
        "z_statistic = (sample_mean - population_mean) / (sample_std / np.sqrt(n))\n",
        "p_value = 2 * (1 - stats.norm.cdf(abs(z_statistic)))\n",
        "\n",
        "# Hypotheses\n",
        "print(\"H0 (Null Hypothesis): The sample mean is equal to the population mean.\")\n",
        "print(\"HA (Alternative Hypothesis): The sample mean is different from the population mean.\")\n",
        "\n",
        "print(f\"One-Sample Z Test Statistic: {z_statistic}\")\n",
        "print(f\"P-Value: {p_value}\")\n",
        "\n",
        "alpha = 0.05\n",
        "if p_value < alpha:\n",
        "    print(\"Reject H0: The sample mean is different from the population mean.\")\n",
        "else:\n",
        "    print(\"Fail to Reject H0: The sample mean is equal to the population mean.\")\n"
      ],
      "metadata": {
        "colab": {
          "base_uri": "https://localhost:8080/"
        },
        "id": "wAfGsR-l9NRf",
        "outputId": "37c38827-efc7-47a8-80ab-04c1fe5ed8b9"
      },
      "execution_count": null,
      "outputs": [
        {
          "output_type": "stream",
          "name": "stdout",
          "text": [
            "H0 (Null Hypothesis): The sample mean is equal to the population mean.\n",
            "HA (Alternative Hypothesis): The sample mean is different from the population mean.\n",
            "One-Sample Z Test Statistic: 17.037106863446187\n",
            "P-Value: 0.0\n",
            "Reject H0: The sample mean is different from the population mean.\n"
          ]
        }
      ]
    },
    {
      "cell_type": "markdown",
      "source": [
        "#7. Z2 - Z-Test: Two Sample"
      ],
      "metadata": {
        "id": "muguY2ZL9s5M"
      }
    },
    {
      "cell_type": "code",
      "source": [
        "import numpy as np\n",
        "import scipy.stats as stats\n",
        "\n",
        "# Define two independent samples (Example: dividing the data into two time periods)\n",
        "sample1 = df['Close'][:len(df)//2]  # First half of the 'Close' prices\n",
        "sample2 = df['Close'][len(df)//2:]   # Second half of the 'Close' prices\n",
        "\n",
        "# Calculate means and standard deviations for both samples\n",
        "mean1, mean2 = np.mean(sample1), np.mean(sample2)\n",
        "std1, std2 = np.std(sample1, ddof=1), np.std(sample2, ddof=1)\n",
        "n1, n2 = len(sample1), len(sample2)\n",
        "\n",
        "# Calculate the Z statistic\n",
        "z_statistic = (mean1 - mean2) / np.sqrt((std1**2 / n1) + (std2**2 / n2))\n",
        "\n",
        "# Calculate the two-tailed p-value\n",
        "p_value = 2 * (1 - stats.norm.cdf(abs(z_statistic)))\n",
        "\n",
        "# Hypotheses\n",
        "print(\"H0 (Null Hypothesis): The means of the two samples are equal.\")\n",
        "print(\"HA (Alternative Hypothesis): The means of the two samples are not equal.\")\n",
        "\n",
        "# Output results\n",
        "print(f\"Two-Sample Z-Test Statistic: {z_statistic}\")\n",
        "print(f\"P-Value: {p_value}\")\n",
        "\n",
        "# Decision based on significance level\n",
        "alpha = 0.05\n",
        "if p_value < alpha:\n",
        "    print(\"Reject H0: The means of the two samples are significantly different.\")\n",
        "else:\n",
        "    print(\"Fail to Reject H0: The means of the two samples are not significantly different.\")\n"
      ],
      "metadata": {
        "colab": {
          "base_uri": "https://localhost:8080/"
        },
        "id": "6P39vK5E_BGJ",
        "outputId": "2bb66181-f24a-4306-a309-ed54a46a7301"
      },
      "execution_count": null,
      "outputs": [
        {
          "output_type": "stream",
          "name": "stdout",
          "text": [
            "H0 (Null Hypothesis): The means of the two samples are equal.\n",
            "HA (Alternative Hypothesis): The means of the two samples are not equal.\n",
            "Two-Sample Z-Test Statistic: -45.70520848045105\n",
            "P-Value: 0.0\n",
            "Reject H0: The means of the two samples are significantly different.\n"
          ]
        }
      ]
    },
    {
      "cell_type": "markdown",
      "source": [
        "#8. T1 - One-Sample T-Test"
      ],
      "metadata": {
        "id": "FAN2V9MS9yG3"
      }
    },
    {
      "cell_type": "code",
      "source": [
        "import scipy.stats as stats\n",
        "\n",
        "population_mean = 129  # Example value\n",
        "t_statistic, p_value = stats.ttest_1samp(df['Close'], population_mean)\n",
        "\n",
        "# Hypotheses\n",
        "print(\"H0 (Null Hypothesis): The sample mean is equal to the population mean.\")\n",
        "print(\"HA (Alternative Hypothesis): The sample mean is not equal to the population mean.\")\n",
        "\n",
        "print(f\"One-Sample T-Test Statistic: {t_statistic}\")\n",
        "print(f\"P-Value: {p_value}\")\n",
        "\n",
        "alpha = 0.05\n",
        "if p_value < alpha:\n",
        "    print(\"Reject H0: The sample mean is not equal to the population mean.\")\n",
        "else:\n",
        "    print(\"Fail to Reject H0: The sample mean is equal to the population mean.\")\n"
      ],
      "metadata": {
        "colab": {
          "base_uri": "https://localhost:8080/"
        },
        "id": "akD3DTel_gFr",
        "outputId": "d24f1342-76ad-4a99-a935-b67886f76df6"
      },
      "execution_count": null,
      "outputs": [
        {
          "output_type": "stream",
          "name": "stdout",
          "text": [
            "H0 (Null Hypothesis): The sample mean is equal to the population mean.\n",
            "HA (Alternative Hypothesis): The sample mean is not equal to the population mean.\n",
            "One-Sample T-Test Statistic: -0.06685368681416654\n",
            "P-Value: 0.9467091820042363\n",
            "Fail to Reject H0: The sample mean is equal to the population mean.\n"
          ]
        }
      ]
    },
    {
      "cell_type": "markdown",
      "source": [
        "#9. T2 - Two-Sample T-Test"
      ],
      "metadata": {
        "id": "H0v-bf9T91Bh"
      }
    },
    {
      "cell_type": "code",
      "source": [
        "sample1 = df['Close'][:len(df)//2]\n",
        "sample2 = df['Close'][len(df)//2:]\n",
        "t_statistic, p_value = stats.ttest_ind(sample1, sample2)\n",
        "\n",
        "# Hypotheses\n",
        "print(\"H0 (Null Hypothesis): The means of the two samples are equal.\")\n",
        "print(\"HA (Alternative Hypothesis): The means of the two samples are not equal.\")\n",
        "\n",
        "print(f\"Two-Sample T-Test Statistic: {t_statistic}\")\n",
        "print(f\"P-Value: {p_value}\")\n",
        "\n",
        "alpha = 0.05\n",
        "if p_value < alpha:\n",
        "    print(\"Reject H0: The means of the two samples are not equal.\")\n",
        "else:\n",
        "    print(\"Fail to Reject H0: The means of the two samples are equal.\")\n"
      ],
      "metadata": {
        "colab": {
          "base_uri": "https://localhost:8080/"
        },
        "id": "R59sUYBp_emU",
        "outputId": "be5bd077-5185-467e-e0c7-8a7b69e2593c"
      },
      "execution_count": null,
      "outputs": [
        {
          "output_type": "stream",
          "name": "stdout",
          "text": [
            "H0 (Null Hypothesis): The means of the two samples are equal.\n",
            "HA (Alternative Hypothesis): The means of the two samples are not equal.\n",
            "Two-Sample T-Test Statistic: -45.70520848045103\n",
            "P-Value: 4.026854988285564e-266\n",
            "Reject H0: The means of the two samples are not equal.\n"
          ]
        }
      ]
    },
    {
      "cell_type": "markdown",
      "source": [
        "#10. χ² - Chi-Square Test Statistic"
      ],
      "metadata": {
        "id": "NtwnkJX_-NUb"
      }
    },
    {
      "cell_type": "code",
      "source": [
        "import numpy as np\n",
        "expected_frequencies = np.full_like(df['Close'], np.mean(df['Close']))\n",
        "chi2_statistic, p_value = stats.chisquare(df['Close'], f_exp=expected_frequencies)\n",
        "\n",
        "# Hypotheses\n",
        "print(\"H0 (Null Hypothesis): The observed distribution fits the expected distribution.\")\n",
        "print(\"HA (Alternative Hypothesis): The observed distribution does not fit the expected distribution.\")\n",
        "\n",
        "print(f\"Chi-Square Test Statistic: {chi2_statistic}\")\n",
        "print(f\"P-Value: {p_value}\")\n",
        "\n",
        "alpha = 0.05\n",
        "if p_value < alpha:\n",
        "    print(\"Reject H0: The observed distribution does not fit the expected distribution.\")\n",
        "else:\n",
        "    print(\"Fail to Reject H0: The observed distribution fits the expected distribution.\")\n"
      ],
      "metadata": {
        "colab": {
          "base_uri": "https://localhost:8080/"
        },
        "id": "3tW6nVqB_hr_",
        "outputId": "a2e2c890-10a6-49f5-9919-2151eb5d9e4e"
      },
      "execution_count": null,
      "outputs": [
        {
          "output_type": "stream",
          "name": "stdout",
          "text": [
            "H0 (Null Hypothesis): The observed distribution fits the expected distribution.\n",
            "HA (Alternative Hypothesis): The observed distribution does not fit the expected distribution.\n",
            "Chi-Square Test Statistic: 45303.55068020599\n",
            "P-Value: 0.0\n",
            "Reject H0: The observed distribution does not fit the expected distribution.\n"
          ]
        }
      ]
    },
    {
      "cell_type": "markdown",
      "source": [
        "# 11. ANOVA - One Way ANOVA F Test"
      ],
      "metadata": {
        "id": "kWQchQm--Sl9"
      }
    },
    {
      "cell_type": "code",
      "source": [
        "group1 = df['Close'][:len(df)//3]\n",
        "group2 = df['Close'][len(df)//3:2*len(df)//3]\n",
        "group3 = df['Close'][2*len(df)//3:]\n",
        "f_statistic, p_value = stats.f_oneway(group1, group2, group3)\n",
        "\n",
        "# Hypotheses\n",
        "print(\"H0 (Null Hypothesis): The means of the groups are equal.\")\n",
        "print(\"HA (Alternative Hypothesis): At least one group mean is different.\")\n",
        "\n",
        "print(f\"ANOVA F-Test Statistic: {f_statistic}\")\n",
        "print(f\"P-Value: {p_value}\")\n",
        "\n",
        "alpha = 0.05\n",
        "if p_value < alpha:\n",
        "    print(\"Reject H0: At least one group mean is different.\")\n",
        "else:\n",
        "    print(\"Fail to Reject H0: The means of the groups are equal.\")\n"
      ],
      "metadata": {
        "colab": {
          "base_uri": "https://localhost:8080/"
        },
        "id": "M2ngttUs_j4M",
        "outputId": "a6b38005-eb52-45de-90ab-c0c5f23c24ec"
      },
      "execution_count": null,
      "outputs": [
        {
          "output_type": "stream",
          "name": "stdout",
          "text": [
            "H0 (Null Hypothesis): The means of the groups are equal.\n",
            "HA (Alternative Hypothesis): At least one group mean is different.\n",
            "ANOVA F-Test Statistic: 2877.0576728157307\n",
            "P-Value: 0.0\n",
            "Reject H0: At least one group mean is different.\n"
          ]
        }
      ]
    },
    {
      "cell_type": "markdown",
      "source": [
        "#12. ADF - Dickey-Fuller Test (with Drift)"
      ],
      "metadata": {
        "id": "hQkQYL-3-bnP"
      }
    },
    {
      "cell_type": "code",
      "source": [
        "from statsmodels.tsa.stattools import adfuller\n",
        "\n",
        "result = adfuller(df['Close'], regression='c')\n",
        "\n",
        "# Hypotheses\n",
        "print(\"H0 (Null Hypothesis): The time series has a unit root (non-stationary).\")\n",
        "print(\"HA (Alternative Hypothesis): The time series does not have a unit root (stationary).\")\n",
        "\n",
        "print(f\"Dickey-Fuller Test Statistic: {result[0]}\")\n",
        "print(f\"P-Value: {result[1]}\")\n",
        "\n",
        "alpha = 0.05\n",
        "if result[1] < alpha:\n",
        "    print(\"Reject H0: The time series is stationary.\")\n",
        "else:\n",
        "    print(\"Fail to Reject H0: The time series is non-stationary.\")\n"
      ],
      "metadata": {
        "colab": {
          "base_uri": "https://localhost:8080/"
        },
        "id": "Y8ISE_oV_x9L",
        "outputId": "22dcc876-12cd-4d9b-99d1-6133626db82b"
      },
      "execution_count": null,
      "outputs": [
        {
          "output_type": "stream",
          "name": "stdout",
          "text": [
            "H0 (Null Hypothesis): The time series has a unit root (non-stationary).\n",
            "HA (Alternative Hypothesis): The time series does not have a unit root (stationary).\n",
            "Dickey-Fuller Test Statistic: 0.3771965209735524\n",
            "P-Value: 0.9806218511778408\n",
            "Fail to Reject H0: The time series is non-stationary.\n"
          ]
        }
      ]
    },
    {
      "cell_type": "markdown",
      "source": [
        "#13. ADF-DriftTrend - Augmented Dickey-Fuller Test (with Drift and Trend)"
      ],
      "metadata": {
        "id": "wryKbALd-jtP"
      }
    },
    {
      "cell_type": "code",
      "source": [
        "result = adfuller(df['Close'], regression='ct')\n",
        "\n",
        "print(\"H0 (Null Hypothesis): The time series has a unit root (non-stationary).\")\n",
        "print(\"HA (Alternative Hypothesis): The time series does not have a unit root (stationary).\")\n",
        "\n",
        "print(f\"Augmented Dickey-Fuller Test Statistic: {result[0]}\")\n",
        "print(f\"P-Value: {result[1]}\")\n",
        "\n",
        "if result[1] < alpha:\n",
        "    print(\"Reject H0: The time series is stationary.\")\n",
        "else:\n",
        "    print(\"Fail to Reject H0: The time series is non-stationary.\")\n"
      ],
      "metadata": {
        "colab": {
          "base_uri": "https://localhost:8080/"
        },
        "id": "VTkDRgJS_zSw",
        "outputId": "969accde-027d-4f89-9aab-804d12378a63"
      },
      "execution_count": null,
      "outputs": [
        {
          "output_type": "stream",
          "name": "stdout",
          "text": [
            "H0 (Null Hypothesis): The time series has a unit root (non-stationary).\n",
            "HA (Alternative Hypothesis): The time series does not have a unit root (stationary).\n",
            "Augmented Dickey-Fuller Test Statistic: -2.329390923715192\n",
            "P-Value: 0.41776620829006583\n",
            "Fail to Reject H0: The time series is non-stationary.\n"
          ]
        }
      ]
    },
    {
      "cell_type": "markdown",
      "source": [
        "#14. ADF-NC/NT - Augmented Dickey-Fuller Test (No Constant and No Trend)"
      ],
      "metadata": {
        "id": "_3QUA--8-nsm"
      }
    },
    {
      "cell_type": "code",
      "source": [
        "result = adfuller(df['Close'], regression='n')\n",
        "\n",
        "print(\"H0 (Null Hypothesis): The time series has a unit root (non-stationary).\")\n",
        "print(\"HA (Alternative Hypothesis): The time series does not have a unit root (stationary).\")\n",
        "\n",
        "print(f\"Augmented Dickey-Fuller Test Statistic: {result[0]}\")\n",
        "print(f\"P-Value: {result[1]}\")\n",
        "\n",
        "if result[1] < alpha:\n",
        "    print(\"Reject H0: The time series is stationary.\")\n",
        "else:\n",
        "    print(\"Fail to Reject H0: The time series is non-stationary.\")\n"
      ],
      "metadata": {
        "colab": {
          "base_uri": "https://localhost:8080/"
        },
        "id": "jrzMdoLf_0lm",
        "outputId": "b0601f69-772d-483d-d777-29d30d47f654"
      },
      "execution_count": null,
      "outputs": [
        {
          "output_type": "stream",
          "name": "stdout",
          "text": [
            "H0 (Null Hypothesis): The time series has a unit root (non-stationary).\n",
            "HA (Alternative Hypothesis): The time series does not have a unit root (stationary).\n",
            "Augmented Dickey-Fuller Test Statistic: 1.6478978308483072\n",
            "P-Value: 0.9761106143152962\n",
            "Fail to Reject H0: The time series is non-stationary.\n"
          ]
        }
      ]
    },
    {
      "cell_type": "markdown",
      "source": [
        "#15. EVALUATION METRICS"
      ],
      "metadata": {
        "id": "RNUsFsj7-y_E"
      }
    },
    {
      "cell_type": "code",
      "source": [
        "import statsmodels.api as sm\n",
        "\n",
        "# Define X and y (features and target)\n",
        "X = df[['Open', 'High', 'Low', 'Close', 'Adj Close', 'Volume']]\n",
        "X = sm.add_constant(X)  # Add constant if the model needs an intercept\n",
        "y = df['Close']\n",
        "\n",
        "# Train the model\n",
        "model = sm.OLS(y, X).fit()\n",
        "\n",
        "# Generate predictions\n",
        "predictions = model.predict(X)\n",
        "\n",
        "# a) Mean Absolute Deviation (MAD)\n",
        "mad = abs(df['Close'] - predictions).mean()\n",
        "print(f\"MAD: {mad}\")\n",
        "\n",
        "# b) Mean Absolute Percentage Error (MAPE)\n",
        "mape = (abs((df['Close'] - predictions) / df['Close'])).mean() * 100\n",
        "print(f\"MAPE: {mape}%\")\n",
        "\n",
        "# c) Mean Absolute Error (MAE)\n",
        "mae = abs(df['Close'] - predictions).mean()\n",
        "print(f\"MAE: {mae}\")\n",
        "\n",
        "# d) Mean Squared Error (MSE)\n",
        "mse = ((df['Close'] - predictions) ** 2).mean()\n",
        "print(f\"MSE: {mse}\")\n",
        "\n",
        "# e) Root Mean Squared Error (RMSE)\n",
        "rmse = ((df['Close'] - predictions) ** 2).mean() ** 0.5\n",
        "print(f\"RMSE: {rmse}\")\n"
      ],
      "metadata": {
        "colab": {
          "base_uri": "https://localhost:8080/"
        },
        "id": "2WlyNyx3_2OQ",
        "outputId": "2b43729d-d64c-4c6c-e98a-ca767a36052c"
      },
      "execution_count": null,
      "outputs": [
        {
          "output_type": "stream",
          "name": "stdout",
          "text": [
            "MAD: 3.889660523495159e-11\n",
            "MAPE: 4.51850396963058e-11%\n",
            "MAE: 3.889660523495159e-11\n",
            "MSE: 2.543762178506042e-21\n",
            "RMSE: 5.043572323766203e-11\n"
          ]
        }
      ]
    },
    {
      "cell_type": "markdown",
      "source": [
        "#16. ARIMA - Autoregressive Integrated Moving Average"
      ],
      "metadata": {
        "id": "1nQK2CMi--nw"
      }
    },
    {
      "cell_type": "code",
      "source": [
        "from statsmodels.tsa.arima.model import ARIMA\n",
        "\n",
        "order = (1, 1, 1)  # Set ARIMA order based on your data\n",
        "arima_model = ARIMA(df['Close'], order=order)\n",
        "arima_result = arima_model.fit()\n",
        "\n",
        "# Print the summary\n",
        "print(arima_result.summary())\n",
        "\n",
        "# Interpretation based on model significance\n",
        "print(\"H0 (Null Hypothesis): The ARIMA model adequately fits the time series data.\")\n",
        "print(\"HA (Alternative Hypothesis): The ARIMA model does not adequately fit the time series data.\")\n",
        "\n",
        "# Using AIC as a model fit indicator (lower AIC suggests a better fit)\n",
        "aic_threshold = 1000  # Define an AIC threshold (or compare with alternative models)\n",
        "print(f\"AIC: {arima_result.aic}\")\n",
        "if arima_result.aic < aic_threshold:\n",
        "    print(\"Reject H0: The ARIMA model fits the time series data adequately.\")\n",
        "else:\n",
        "    print(\"Fail to Reject H0: The ARIMA model does not adequately fit the time series data.\")\n"
      ],
      "metadata": {
        "colab": {
          "base_uri": "https://localhost:8080/"
        },
        "id": "B3wqHekL_3rH",
        "outputId": "118c83e6-b20e-4f66-9635-f93d23d68b8f"
      },
      "execution_count": null,
      "outputs": [
        {
          "output_type": "stream",
          "name": "stderr",
          "text": [
            "/usr/local/lib/python3.10/dist-packages/statsmodels/tsa/base/tsa_model.py:473: ValueWarning: An unsupported index was provided. As a result, forecasts cannot be generated. To use the model for forecasting, use one of the supported classes of index.\n",
            "  self._init_dates(dates, freq)\n",
            "/usr/local/lib/python3.10/dist-packages/statsmodels/tsa/base/tsa_model.py:473: ValueWarning: An unsupported index was provided. As a result, forecasts cannot be generated. To use the model for forecasting, use one of the supported classes of index.\n",
            "  self._init_dates(dates, freq)\n",
            "/usr/local/lib/python3.10/dist-packages/statsmodels/tsa/base/tsa_model.py:473: ValueWarning: An unsupported index was provided. As a result, forecasts cannot be generated. To use the model for forecasting, use one of the supported classes of index.\n",
            "  self._init_dates(dates, freq)\n"
          ]
        },
        {
          "output_type": "stream",
          "name": "stdout",
          "text": [
            "                               SARIMAX Results                                \n",
            "==============================================================================\n",
            "Dep. Variable:                  Close   No. Observations:                 1216\n",
            "Model:                 ARIMA(1, 1, 1)   Log Likelihood               -3240.714\n",
            "Date:                Sun, 03 Nov 2024   AIC                           6487.428\n",
            "Time:                        12:13:35   BIC                           6502.735\n",
            "Sample:                             0   HQIC                          6493.190\n",
            "                               - 1216                                         \n",
            "Covariance Type:                  opg                                         \n",
            "==============================================================================\n",
            "                 coef    std err          z      P>|z|      [0.025      0.975]\n",
            "------------------------------------------------------------------------------\n",
            "ar.L1          0.2515      0.159      1.581      0.114      -0.060       0.563\n",
            "ma.L1         -0.3719      0.159     -2.336      0.019      -0.684      -0.060\n",
            "sigma2        12.1413      0.196     61.881      0.000      11.757      12.526\n",
            "===================================================================================\n",
            "Ljung-Box (L1) (Q):                   0.00   Jarque-Bera (JB):             41697.36\n",
            "Prob(Q):                              0.97   Prob(JB):                         0.00\n",
            "Heteroskedasticity (H):               5.02   Skew:                            -1.05\n",
            "Prob(H) (two-sided):                  0.00   Kurtosis:                        31.62\n",
            "===================================================================================\n",
            "\n",
            "Warnings:\n",
            "[1] Covariance matrix calculated using the outer product of gradients (complex-step).\n",
            "H0 (Null Hypothesis): The ARIMA model adequately fits the time series data.\n",
            "HA (Alternative Hypothesis): The ARIMA model does not adequately fit the time series data.\n",
            "AIC: 6487.427572938204\n",
            "Fail to Reject H0: The ARIMA model does not adequately fit the time series data.\n"
          ]
        }
      ]
    },
    {
      "cell_type": "markdown",
      "source": [
        "#17. VAR - Vector Autoregression"
      ],
      "metadata": {
        "id": "jYf2udx7_K1U"
      }
    },
    {
      "cell_type": "code",
      "source": [
        "from statsmodels.tsa.api import VAR\n",
        "\n",
        "data = df[['Open', 'Close']].dropna()\n",
        "var_model = VAR(data)\n",
        "var_result = var_model.fit(maxlags=15, ic='aic')\n",
        "\n",
        "print(var_result.summary())\n",
        "\n",
        "print(\"H0 (Null Hypothesis): No Granger causality between the time series.\")\n",
        "print(\"HA (Alternative Hypothesis): Granger causality exists between the time series.\")\n",
        "\n",
        "# Using p-value to interpret Granger causality for each lag\n",
        "for col in var_result.pvalues.columns:\n",
        "    p_value = var_result.pvalues[col].max()\n",
        "    if p_value < 0.05:\n",
        "        print(f\"Reject H0 for {col}: Evidence of Granger causality at p-value {p_value}\")\n",
        "    else:\n",
        "        print(f\"Fail to Reject H0 for {col}: No evidence of Granger causality.\")\n"
      ],
      "metadata": {
        "colab": {
          "base_uri": "https://localhost:8080/"
        },
        "id": "1Ol6MHUh_6_I",
        "outputId": "60fa29cb-2e84-45e7-ad27-f9d0bb8e7135"
      },
      "execution_count": null,
      "outputs": [
        {
          "output_type": "stream",
          "name": "stdout",
          "text": [
            "  Summary of Regression Results   \n",
            "==================================\n",
            "Model:                         VAR\n",
            "Method:                        OLS\n",
            "Date:           Sun, 03, Nov, 2024\n",
            "Time:                     12:13:35\n",
            "--------------------------------------------------------------------\n",
            "No. of Equations:         2.00000    BIC:                    3.12363\n",
            "Nobs:                     1214.00    HQIC:                   3.09743\n",
            "Log likelihood:          -5305.72    FPE:                    21.7935\n",
            "AIC:                      3.08161    Det(Omega_mle):         21.6150\n",
            "--------------------------------------------------------------------\n",
            "Results for equation Open\n",
            "===========================================================================\n",
            "              coefficient       std. error           t-stat            prob\n",
            "---------------------------------------------------------------------------\n",
            "const            0.012158         0.087120            0.140           0.889\n",
            "L1.Open          0.014048         0.030904            0.455           0.649\n",
            "L1.Close         0.981413         0.012673           77.440           0.000\n",
            "L2.Open          0.004288         0.012659            0.339           0.735\n",
            "L2.Close         0.002164         0.030930            0.070           0.944\n",
            "===========================================================================\n",
            "\n",
            "Results for equation Close\n",
            "===========================================================================\n",
            "              coefficient       std. error           t-stat            prob\n",
            "---------------------------------------------------------------------------\n",
            "const            0.103489         0.211024            0.490           0.624\n",
            "L1.Open         -0.108676         0.074858           -1.452           0.147\n",
            "L1.Close         0.894783         0.030697           29.149           0.000\n",
            "L2.Open          0.083519         0.030663            2.724           0.006\n",
            "L2.Close         0.130844         0.074920            1.746           0.081\n",
            "===========================================================================\n",
            "\n",
            "Correlation matrix of residuals\n",
            "             Open     Close\n",
            "Open     1.000000  0.367506\n",
            "Close    0.367506  1.000000\n",
            "\n",
            "\n",
            "\n",
            "H0 (Null Hypothesis): No Granger causality between the time series.\n",
            "HA (Alternative Hypothesis): Granger causality exists between the time series.\n",
            "Fail to Reject H0 for Open: No evidence of Granger causality.\n",
            "Fail to Reject H0 for Close: No evidence of Granger causality.\n"
          ]
        },
        {
          "output_type": "stream",
          "name": "stderr",
          "text": [
            "/usr/local/lib/python3.10/dist-packages/statsmodels/tsa/base/tsa_model.py:473: ValueWarning: An unsupported index was provided. As a result, forecasts cannot be generated. To use the model for forecasting, use one of the supported classes of index.\n",
            "  self._init_dates(dates, freq)\n"
          ]
        }
      ]
    },
    {
      "cell_type": "markdown",
      "source": [
        "#18. GC - Granger Causality"
      ],
      "metadata": {
        "id": "J21PcRAR_N83"
      }
    },
    {
      "cell_type": "code",
      "source": [
        "from statsmodels.tsa.stattools import grangercausalitytests\n",
        "\n",
        "max_lag = 5\n",
        "granger_test_result = grangercausalitytests(data[['Open', 'Close']], max_lag, verbose=True)\n",
        "\n",
        "print(\"H0 (Null Hypothesis): Variable X does not Granger-cause Variable Y.\")\n",
        "print(\"HA (Alternative Hypothesis): Variable X Granger-causes Variable Y.\")\n",
        "\n",
        "# Check if p-values for any lag are below significance level\n",
        "significance_level = 0.05\n",
        "for lag in range(1, max_lag + 1):\n",
        "    p_value = granger_test_result[lag][0]['ssr_chi2test'][1]\n",
        "    if p_value < significance_level:\n",
        "        print(f\"Reject H0 at lag {lag}: Evidence of Granger causality (p-value {p_value}).\")\n",
        "    else:\n",
        "        print(f\"Fail to Reject H0 at lag {lag}: No evidence of Granger causality.\")\n"
      ],
      "metadata": {
        "colab": {
          "base_uri": "https://localhost:8080/"
        },
        "id": "H11_FlLc_9AO",
        "outputId": "8a8bb7ca-d4e1-4585-dd17-a88d50a2d4a5"
      },
      "execution_count": null,
      "outputs": [
        {
          "output_type": "stream",
          "name": "stderr",
          "text": [
            "/usr/local/lib/python3.10/dist-packages/statsmodels/tsa/stattools.py:1556: FutureWarning: verbose is deprecated since functions should not print results\n",
            "  warnings.warn(\n"
          ]
        },
        {
          "output_type": "stream",
          "name": "stdout",
          "text": [
            "\n",
            "Granger Causality\n",
            "number of lags (no zero) 1\n",
            "ssr based F test:         F=6070.7904, p=0.0000  , df_denom=1212, df_num=1\n",
            "ssr based chi2 test:   chi2=6085.8172, p=0.0000  , df=1\n",
            "likelihood ratio test: chi2=2178.7893, p=0.0000  , df=1\n",
            "parameter F test:         F=6070.7904, p=0.0000  , df_denom=1212, df_num=1\n",
            "\n",
            "Granger Causality\n",
            "number of lags (no zero) 2\n",
            "ssr based F test:         F=2998.9587, p=0.0000  , df_denom=1209, df_num=2\n",
            "ssr based chi2 test:   chi2=6022.7226, p=0.0000  , df=2\n",
            "likelihood ratio test: chi2=2167.2908, p=0.0000  , df=2\n",
            "parameter F test:         F=2998.9587, p=0.0000  , df_denom=1209, df_num=2\n",
            "\n",
            "Granger Causality\n",
            "number of lags (no zero) 3\n",
            "ssr based F test:         F=1998.9785, p=0.0000  , df_denom=1206, df_num=3\n",
            "ssr based chi2 test:   chi2=6031.7436, p=0.0000  , df=3\n",
            "likelihood ratio test: chi2=2167.8488, p=0.0000  , df=3\n",
            "parameter F test:         F=1998.9785, p=0.0000  , df_denom=1206, df_num=3\n",
            "\n",
            "Granger Causality\n",
            "number of lags (no zero) 4\n",
            "ssr based F test:         F=1503.8568, p=0.0000  , df_denom=1203, df_num=4\n",
            "ssr based chi2 test:   chi2=6060.4303, p=0.0000  , df=4\n",
            "likelihood ratio test: chi2=2171.6842, p=0.0000  , df=4\n",
            "parameter F test:         F=1503.8568, p=0.0000  , df_denom=1203, df_num=4\n",
            "\n",
            "Granger Causality\n",
            "number of lags (no zero) 5\n",
            "ssr based F test:         F=1200.6161, p=0.0000  , df_denom=1200, df_num=5\n",
            "ssr based chi2 test:   chi2=6058.1089, p=0.0000  , df=5\n",
            "likelihood ratio test: chi2=2170.3388, p=0.0000  , df=5\n",
            "parameter F test:         F=1200.6161, p=0.0000  , df_denom=1200, df_num=5\n",
            "H0 (Null Hypothesis): Variable X does not Granger-cause Variable Y.\n",
            "HA (Alternative Hypothesis): Variable X Granger-causes Variable Y.\n",
            "Reject H0 at lag 1: Evidence of Granger causality (p-value 0.0).\n",
            "Reject H0 at lag 2: Evidence of Granger causality (p-value 0.0).\n",
            "Reject H0 at lag 3: Evidence of Granger causality (p-value 0.0).\n",
            "Reject H0 at lag 4: Evidence of Granger causality (p-value 0.0).\n",
            "Reject H0 at lag 5: Evidence of Granger causality (p-value 0.0).\n"
          ]
        }
      ]
    },
    {
      "cell_type": "markdown",
      "source": [
        "#19. GARCH - Generalized Autoregressive Conditional Heteroskedasticity"
      ],
      "metadata": {
        "id": "BA0z-xFM_VeP"
      }
    },
    {
      "cell_type": "code",
      "source": [
        "# Install the arch package if not already installed\n",
        "!pip install arch\n",
        "\n",
        "# Import arch_model from arch\n",
        "from arch import arch_model\n",
        "\n",
        "# Define and fit the GARCH model\n",
        "garch_model = arch_model(df['Close'], vol='Garch', p=1, q=1)\n",
        "garch_result = garch_model.fit()\n",
        "\n",
        "# Print the model summary\n",
        "print(garch_result.summary())\n",
        "\n",
        "# Hypothesis statements\n",
        "print(\"H0 (Null Hypothesis): No ARCH effects (constant variance).\")\n",
        "print(\"HA (Alternative Hypothesis): ARCH effects are present (changing variance).\")\n",
        "\n",
        "# Interpret the p-value of the ARCH term\n",
        "p_value = garch_result.pvalues['omega']\n",
        "if p_value < 0.05:\n",
        "    print(\"Reject H0: ARCH effects are present.\")\n",
        "else:\n",
        "    print(\"Fail to Reject H0: No ARCH effects detected.\")\n"
      ],
      "metadata": {
        "colab": {
          "base_uri": "https://localhost:8080/"
        },
        "id": "hzAR5esD_-34",
        "outputId": "40607b1c-bb95-44ec-bd7c-6d8d5df34b31"
      },
      "execution_count": null,
      "outputs": [
        {
          "output_type": "stream",
          "name": "stdout",
          "text": [
            "Requirement already satisfied: arch in /usr/local/lib/python3.10/dist-packages (7.1.0)\n",
            "Requirement already satisfied: numpy>=1.22.3 in /usr/local/lib/python3.10/dist-packages (from arch) (1.26.4)\n",
            "Requirement already satisfied: scipy>=1.8 in /usr/local/lib/python3.10/dist-packages (from arch) (1.13.1)\n",
            "Requirement already satisfied: pandas>=1.4 in /usr/local/lib/python3.10/dist-packages (from arch) (2.2.2)\n",
            "Requirement already satisfied: statsmodels>=0.12 in /usr/local/lib/python3.10/dist-packages (from arch) (0.14.4)\n",
            "Requirement already satisfied: python-dateutil>=2.8.2 in /usr/local/lib/python3.10/dist-packages (from pandas>=1.4->arch) (2.8.2)\n",
            "Requirement already satisfied: pytz>=2020.1 in /usr/local/lib/python3.10/dist-packages (from pandas>=1.4->arch) (2024.2)\n",
            "Requirement already satisfied: tzdata>=2022.7 in /usr/local/lib/python3.10/dist-packages (from pandas>=1.4->arch) (2024.2)\n",
            "Requirement already satisfied: patsy>=0.5.6 in /usr/local/lib/python3.10/dist-packages (from statsmodels>=0.12->arch) (0.5.6)\n",
            "Requirement already satisfied: packaging>=21.3 in /usr/local/lib/python3.10/dist-packages (from statsmodels>=0.12->arch) (24.1)\n",
            "Requirement already satisfied: six in /usr/local/lib/python3.10/dist-packages (from patsy>=0.5.6->statsmodels>=0.12->arch) (1.16.0)\n",
            "Iteration:      1,   Func. Count:      6,   Neg. LLF: 34978.414789355134\n",
            "Iteration:      2,   Func. Count:     13,   Neg. LLF: 13738351.713982517\n",
            "Iteration:      3,   Func. Count:     20,   Neg. LLF: 7543.543855733757\n",
            "Iteration:      4,   Func. Count:     27,   Neg. LLF: 6113.4668087909595\n",
            "Iteration:      5,   Func. Count:     33,   Neg. LLF: 6035.247476292059\n",
            "Iteration:      6,   Func. Count:     38,   Neg. LLF: 6016.914140745712\n",
            "Iteration:      7,   Func. Count:     43,   Neg. LLF: 6012.748430103173\n",
            "Iteration:      8,   Func. Count:     48,   Neg. LLF: 6009.873105214272\n",
            "Iteration:      9,   Func. Count:     53,   Neg. LLF: 5996.221157007655\n",
            "Iteration:     10,   Func. Count:     58,   Neg. LLF: 5988.552589765737\n",
            "Iteration:     11,   Func. Count:     63,   Neg. LLF: 5982.4801110669105\n",
            "Iteration:     12,   Func. Count:     68,   Neg. LLF: 5967.687615162202\n",
            "Iteration:     13,   Func. Count:     73,   Neg. LLF: 10999.17631698264\n",
            "Iteration:     14,   Func. Count:     79,   Neg. LLF: 9546.216657521627\n",
            "Iteration:     15,   Func. Count:     85,   Neg. LLF: 6572.449197442638\n",
            "Iteration:     16,   Func. Count:     91,   Neg. LLF: 6555.925651354077\n",
            "Iteration:     17,   Func. Count:     97,   Neg. LLF: 6558.600987976681\n",
            "Iteration:     18,   Func. Count:    103,   Neg. LLF: 5935.699038996901\n",
            "Iteration:     19,   Func. Count:    108,   Neg. LLF: 6731.792909823667\n",
            "Iteration:     20,   Func. Count:    114,   Neg. LLF: 11278.484771335809\n",
            "Iteration:     21,   Func. Count:    120,   Neg. LLF: 6143.210974188588\n",
            "Iteration:     22,   Func. Count:    126,   Neg. LLF: 5896.234751926206\n",
            "Iteration:     23,   Func. Count:    131,   Neg. LLF: 5894.746636956823\n",
            "Iteration:     24,   Func. Count:    136,   Neg. LLF: 5894.094988724184\n",
            "Iteration:     25,   Func. Count:    141,   Neg. LLF: 5893.558393110594\n",
            "Iteration:     26,   Func. Count:    146,   Neg. LLF: 5893.228033589883\n",
            "Iteration:     27,   Func. Count:    151,   Neg. LLF: 5893.19938594724\n",
            "Iteration:     28,   Func. Count:    156,   Neg. LLF: 5893.1911442594155\n",
            "Iteration:     29,   Func. Count:    161,   Neg. LLF: 5893.190815648708\n",
            "Iteration:     30,   Func. Count:    165,   Neg. LLF: 5893.190816023854\n",
            "Optimization terminated successfully    (Exit mode 0)\n",
            "            Current function value: 5893.190815648708\n",
            "            Iterations: 30\n",
            "            Function evaluations: 165\n",
            "            Gradient evaluations: 30\n",
            "                     Constant Mean - GARCH Model Results                      \n",
            "==============================================================================\n",
            "Dep. Variable:                  Close   R-squared:                       0.000\n",
            "Mean Model:             Constant Mean   Adj. R-squared:                  0.000\n",
            "Vol Model:                      GARCH   Log-Likelihood:               -5893.19\n",
            "Distribution:                  Normal   AIC:                           11794.4\n",
            "Method:            Maximum Likelihood   BIC:                           11814.8\n",
            "                                        No. Observations:                 1216\n",
            "Date:                Sun, Nov 03 2024   Df Residuals:                     1215\n",
            "Time:                        12:13:45   Df Model:                            1\n",
            "                               Mean Model                               \n",
            "========================================================================\n",
            "                 coef    std err          t      P>|t|  95.0% Conf. Int.\n",
            "------------------------------------------------------------------------\n",
            "mu            94.6766      0.786    120.418      0.000 [ 93.136, 96.218]\n",
            "                            Volatility Model                            \n",
            "========================================================================\n",
            "                 coef    std err          t      P>|t|  95.0% Conf. Int.\n",
            "------------------------------------------------------------------------\n",
            "omega          5.3820      1.200      4.483  7.353e-06 [  3.029,  7.735]\n",
            "alpha[1]       1.0000  5.758e-02     17.366  1.490e-67 [  0.887,  1.113]\n",
            "beta[1]    7.7037e-33  5.737e-02  1.343e-31      1.000 [ -0.112,  0.112]\n",
            "========================================================================\n",
            "\n",
            "Covariance estimator: robust\n",
            "H0 (Null Hypothesis): No ARCH effects (constant variance).\n",
            "HA (Alternative Hypothesis): ARCH effects are present (changing variance).\n",
            "Reject H0: ARCH effects are present.\n"
          ]
        }
      ]
    },
    {
      "cell_type": "markdown",
      "source": [
        "#20. FEM - Fixed Effects Model"
      ],
      "metadata": {
        "id": "_W2BSxta_dqc"
      }
    },
    {
      "cell_type": "code",
      "source": [
        "# Import necessary libraries\n",
        "import pandas as pd\n",
        "from linearmodels.panel import PanelOLS\n",
        "\n",
        "# Load the dataset from a CSV file\n",
        "# Ensure to update the file path to where your CSV file is located\n",
        "file_path = 'bankofbarodamain.csv'  # Update this path\n",
        "df = pd.read_csv(file_path)\n",
        "\n",
        "# Convert 'Date' to datetime format\n",
        "df['Date'] = pd.to_datetime(df['Date'])  # This will infer the format automatically\n",
        "\n",
        "# Add an entity column (assuming we're dealing with one stock)\n",
        "df['entity'] = 'Stock_A'  # You can modify this as necessary\n",
        "\n",
        "# Set multi-index with entity and Date\n",
        "df_panel = df.set_index(['entity', 'Date'])\n",
        "\n",
        "# Ensure we have enough data for the model\n",
        "if df_panel.shape[0] < 2:  # Check if there are at least two observations\n",
        "    print(\"Not enough data points for the fixed effects model.\")\n",
        "else:\n",
        "    # Define the fixed effects model without entity effects since there's only one entity\n",
        "    fixed_effect_model = PanelOLS(df_panel['Close'], df_panel[['Open', 'High', 'Low', 'Volume']], entity_effects=False)\n",
        "\n",
        "    # Fit the model\n",
        "    fixed_effect_result = fixed_effect_model.fit()\n",
        "\n",
        "    # Print the results\n",
        "    print(fixed_effect_result.summary)  # Access without parentheses\n",
        "\n",
        "    print(\"H0 (Null Hypothesis): No significant individual effects.\")\n",
        "    print(\"HA (Alternative Hypothesis): Significant individual effects present.\")\n",
        "\n",
        "    # Use F-statistic and p-value\n",
        "    f_stat = fixed_effect_result.f_statistic\n",
        "\n",
        "    # Correctly retrieve the p-value from the f_stat object\n",
        "    f_stat_pvalue = f_stat.pval  # Use pval instead of pvalue\n",
        "\n",
        "    if f_stat_pvalue < 0.05:\n",
        "        print(\"Reject H0: Significant individual effects present.\")\n",
        "    else:\n",
        "        print(\"Fail to Reject H0: No significant individual effects.\")"
      ],
      "metadata": {
        "colab": {
          "base_uri": "https://localhost:8080/"
        },
        "id": "_8h_idKOAAPU",
        "outputId": "e24e8c56-2b67-4864-f137-c58ebec9ba2f"
      },
      "execution_count": null,
      "outputs": [
        {
          "output_type": "stream",
          "name": "stdout",
          "text": [
            "                          PanelOLS Estimation Summary                           \n",
            "================================================================================\n",
            "Dep. Variable:                  Close   R-squared:                        0.9999\n",
            "Estimator:                   PanelOLS   R-squared (Between):              1.0000\n",
            "No. Observations:                1216   R-squared (Within):               0.9997\n",
            "Date:                Sun, Nov 03 2024   R-squared (Overall):              0.9999\n",
            "Time:                        12:13:46   Log-likelihood                   -1951.0\n",
            "Cov. Estimator:            Unadjusted                                           \n",
            "                                        F-statistic:                   4.476e+06\n",
            "Entities:                           1   P-value                           0.0000\n",
            "Avg Obs:                       1216.0   Distribution:                  F(4,1212)\n",
            "Min Obs:                       1216.0                                           \n",
            "Max Obs:                       1216.0   F-statistic (robust):          4.476e+06\n",
            "                                        P-value                           0.0000\n",
            "Time periods:                    1216   Distribution:                  F(4,1212)\n",
            "Avg Obs:                       1.0000                                           \n",
            "Min Obs:                       1.0000                                           \n",
            "Max Obs:                       1.0000                                           \n",
            "                                                                                \n",
            "                             Parameter Estimates                              \n",
            "==============================================================================\n",
            "            Parameter  Std. Err.     T-stat    P-value    Lower CI    Upper CI\n",
            "------------------------------------------------------------------------------\n",
            "Open          -0.6232     0.0192    -32.452     0.0000     -0.6609     -0.5855\n",
            "High           0.8993     0.0196     45.879     0.0000      0.8608      0.9377\n",
            "Low            0.7216     0.0146     49.550     0.0000      0.6930      0.7502\n",
            "Volume     -3.772e-08  1.785e-08    -2.1135     0.0348  -7.273e-08  -2.705e-09\n",
            "==============================================================================\n",
            "\n",
            "\n",
            "H0 (Null Hypothesis): No significant individual effects.\n",
            "HA (Alternative Hypothesis): Significant individual effects present.\n",
            "Reject H0: Significant individual effects present.\n"
          ]
        }
      ]
    },
    {
      "cell_type": "markdown",
      "source": [
        "#21. REM - Random Effects Model"
      ],
      "metadata": {
        "id": "6BmAzjw0_gyO"
      }
    },
    {
      "cell_type": "code",
      "source": [
        "# Import necessary libraries\n",
        "import pandas as pd\n",
        "from linearmodels.panel import RandomEffects\n",
        "\n",
        "# Convert 'Date' to datetime format\n",
        "df['Date'] = pd.to_datetime(df['Date'])  # This will infer the format automatically\n",
        "\n",
        "# Add an entity column (assuming we're dealing with one stock)\n",
        "df['entity'] = 'Stock_A'  # You can modify this as necessary\n",
        "\n",
        "# Set multi-index with entity and Date\n",
        "df_panel = df.set_index(['entity', 'Date'])\n",
        "\n",
        "# Ensure we have enough data for the model\n",
        "if df_panel.shape[0] < 2:  # Check if there are at least two observations\n",
        "    print(\"Not enough data points for the random effects model.\")\n",
        "else:\n",
        "    # Define the Random Effects model\n",
        "    random_effect_model = RandomEffects(df_panel['Close'], df_panel[['Open', 'High', 'Low', 'Volume']])\n",
        "\n",
        "    # Fit the model\n",
        "    random_effect_result = random_effect_model.fit()\n",
        "\n",
        "    # Print the results\n",
        "    print(random_effect_result.summary)  # Access the summary directly\n",
        "\n",
        "    print(\"H0 (Null Hypothesis): No significant individual effects.\")\n",
        "    print(\"HA (Alternative Hypothesis): Significant individual effects present.\")\n",
        "\n",
        "    # Display the R-squared value\n",
        "    print(f\"R-squared: {random_effect_result.rsquared}\")\n",
        "\n",
        "    # For random effects, we usually look at the p-values of the coefficients directly\n",
        "    # To check for individual significance\n",
        "    p_values = random_effect_result.pvalues\n",
        "    print(\"P-values of the coefficients:\")\n",
        "    print(p_values)\n",
        "\n",
        "    if (p_values < 0.05).any():  # Check if any p-value is significant\n",
        "        print(\"Reject H0: Significant individual effects present.\")\n",
        "    else:\n",
        "        print(\"Fail to Reject H0: No significant individual effects.\")"
      ],
      "metadata": {
        "colab": {
          "base_uri": "https://localhost:8080/"
        },
        "id": "Q_pwtyQFABpV",
        "outputId": "26d37bef-7a90-4716-eae1-2a460c5ae64d"
      },
      "execution_count": null,
      "outputs": [
        {
          "output_type": "stream",
          "name": "stdout",
          "text": [
            "                        RandomEffects Estimation Summary                        \n",
            "================================================================================\n",
            "Dep. Variable:                  Close   R-squared:                        0.9999\n",
            "Estimator:              RandomEffects   R-squared (Between):              1.0000\n",
            "No. Observations:                1216   R-squared (Within):               0.9997\n",
            "Date:                Sun, Nov 03 2024   R-squared (Overall):              0.9999\n",
            "Time:                        12:13:46   Log-likelihood                   -1951.0\n",
            "Cov. Estimator:            Unadjusted                                           \n",
            "                                        F-statistic:                   4.476e+06\n",
            "Entities:                           1   P-value                           0.0000\n",
            "Avg Obs:                       1216.0   Distribution:                  F(4,1212)\n",
            "Min Obs:                       1216.0                                           \n",
            "Max Obs:                       1216.0   F-statistic (robust):          4.476e+06\n",
            "                                        P-value                           0.0000\n",
            "Time periods:                    1216   Distribution:                  F(4,1212)\n",
            "Avg Obs:                       1.0000                                           \n",
            "Min Obs:                       1.0000                                           \n",
            "Max Obs:                       1.0000                                           \n",
            "                                                                                \n",
            "                             Parameter Estimates                              \n",
            "==============================================================================\n",
            "            Parameter  Std. Err.     T-stat    P-value    Lower CI    Upper CI\n",
            "------------------------------------------------------------------------------\n",
            "Open          -0.6232     0.0192    -32.452     0.0000     -0.6609     -0.5855\n",
            "High           0.8993     0.0196     45.879     0.0000      0.8608      0.9377\n",
            "Low            0.7216     0.0146     49.550     0.0000      0.6930      0.7502\n",
            "Volume     -3.772e-08  1.785e-08    -2.1135     0.0348  -7.273e-08  -2.705e-09\n",
            "==============================================================================\n",
            "H0 (Null Hypothesis): No significant individual effects.\n",
            "HA (Alternative Hypothesis): Significant individual effects present.\n",
            "R-squared: 0.9999323099567073\n",
            "P-values of the coefficients:\n",
            "Open      0.000000\n",
            "High      0.000000\n",
            "Low       0.000000\n",
            "Volume    0.034765\n",
            "Name: pvalue, dtype: float64\n",
            "Reject H0: Significant individual effects present.\n"
          ]
        }
      ]
    },
    {
      "cell_type": "markdown",
      "source": [
        "#22. ECM - Error Correction Model"
      ],
      "metadata": {
        "id": "mMMLOFbP_lz2"
      }
    },
    {
      "cell_type": "code",
      "source": [
        "# Import necessary libraries\n",
        "import pandas as pd\n",
        "import numpy as np\n",
        "import statsmodels.api as sm\n",
        "from statsmodels.tsa.stattools import adfuller\n",
        "\n",
        "# Convert 'Date' to datetime format (no format specified for automatic inference)\n",
        "df['Date'] = pd.to_datetime(df['Date'])\n",
        "\n",
        "# Check for missing values in the original dataset\n",
        "print(\"Initial missing values in the dataset:\")\n",
        "print(df.isnull().sum())\n",
        "\n",
        "# Option 1: Drop rows with any missing values\n",
        "df.dropna(inplace=True)\n",
        "\n",
        "# Verify if there are still missing values\n",
        "if df.isnull().values.any():\n",
        "    print(\"Warning: There are still NaN values in the dataset after dropping.\")\n",
        "else:\n",
        "    print(\"No missing values in the dataset after dropping.\")\n",
        "\n",
        "# Check for stationarity and perform differencing if necessary\n",
        "def check_stationarity(series):\n",
        "    result = adfuller(series)\n",
        "    return result[1] <= 0.05  # Return True if p-value is less than 0.05 (stationary)\n",
        "\n",
        "# Assume we're focusing on Close prices\n",
        "if not check_stationarity(df['Close']):\n",
        "    print(\"The 'Close' series is non-stationary; differencing will be applied.\")\n",
        "    df['Close_diff'] = df['Close'].diff()\n",
        "else:\n",
        "    df['Close_diff'] = df['Close']\n",
        "\n",
        "# Create differenced independent variables\n",
        "df[['Open_diff', 'High_diff', 'Low_diff', 'Volume_diff']] = df[['Open', 'High', 'Low', 'Volume']].diff()\n",
        "\n",
        "# Drop NaN values resulting from differencing\n",
        "df.dropna(inplace=True)\n",
        "\n",
        "# Ensure that the dependent variable (Close_diff) and independent variables are aligned\n",
        "Y = df['Close_diff']\n",
        "X = df[['Open_diff', 'High_diff', 'Low_diff', 'Volume_diff']]\n",
        "\n",
        "# Check if there are still any NaN values\n",
        "if Y.isnull().any() or X.isnull().any().any():\n",
        "    print(\"Warning: There are still NaN values in the data after dropping.\")\n",
        "else:\n",
        "    # Add a constant term for the intercept\n",
        "    X = sm.add_constant(X)\n",
        "\n",
        "    # Fit the Error Correction Model (ECM)\n",
        "    ecm_model = sm.OLS(Y, X).fit()\n",
        "\n",
        "    # Print the results\n",
        "    print(ecm_model.summary())\n",
        "\n",
        "    # Interpretation of results\n",
        "    print(\"H0 (Null Hypothesis): No significant relationship.\")\n",
        "    print(\"HA (Alternative Hypothesis): Significant relationship present.\")\n",
        "\n",
        "    # Check the p-values\n",
        "    p_values = ecm_model.pvalues\n",
        "    print(\"P-values of the coefficients:\")\n",
        "    print(p_values)\n",
        "\n",
        "    if (p_values < 0.05).any():  # Check if any p-value is significant\n",
        "        print(\"Reject H0: Significant relationship present.\")\n",
        "    else:\n",
        "        print(\"Fail to Reject H0: No significant relationship.\")"
      ],
      "metadata": {
        "colab": {
          "base_uri": "https://localhost:8080/"
        },
        "id": "mj2rjxVsAC9z",
        "outputId": "90974f02-6b87-4ef8-e610-d9fa7a5bd0e7"
      },
      "execution_count": null,
      "outputs": [
        {
          "output_type": "stream",
          "name": "stdout",
          "text": [
            "Initial missing values in the dataset:\n",
            "Date          0\n",
            "Open         20\n",
            "High         20\n",
            "Low          20\n",
            "Close        20\n",
            "Adj Close    20\n",
            "Volume       20\n",
            "entity        0\n",
            "dtype: int64\n",
            "No missing values in the dataset after dropping.\n",
            "The 'Close' series is non-stationary; differencing will be applied.\n",
            "                            OLS Regression Results                            \n",
            "==============================================================================\n",
            "Dep. Variable:             Close_diff   R-squared:                       0.773\n",
            "Model:                            OLS   Adj. R-squared:                  0.773\n",
            "Method:                 Least Squares   F-statistic:                     1032.\n",
            "Date:                Sun, 03 Nov 2024   Prob (F-statistic):               0.00\n",
            "Time:                        12:13:47   Log-Likelihood:                -2347.4\n",
            "No. Observations:                1215   AIC:                             4705.\n",
            "Df Residuals:                    1210   BIC:                             4730.\n",
            "Df Model:                           4                                         \n",
            "Covariance Type:            nonrobust                                         \n",
            "===============================================================================\n",
            "                  coef    std err          t      P>|t|      [0.025      0.975]\n",
            "-------------------------------------------------------------------------------\n",
            "const           0.0318      0.048      0.662      0.508      -0.063       0.126\n",
            "Open_diff      -0.6937      0.019    -37.113      0.000      -0.730      -0.657\n",
            "High_diff       0.7223      0.024     30.536      0.000       0.676       0.769\n",
            "Low_diff        0.7241      0.019     38.164      0.000       0.687       0.761\n",
            "Volume_diff  1.997e-08   3.06e-08      0.654      0.513      -4e-08    7.99e-08\n",
            "==============================================================================\n",
            "Omnibus:                      178.507   Durbin-Watson:                   2.861\n",
            "Prob(Omnibus):                  0.000   Jarque-Bera (JB):             2378.462\n",
            "Skew:                          -0.086   Prob(JB):                         0.00\n",
            "Kurtosis:                       9.852   Cond. No.                     1.68e+06\n",
            "==============================================================================\n",
            "\n",
            "Notes:\n",
            "[1] Standard Errors assume that the covariance matrix of the errors is correctly specified.\n",
            "[2] The condition number is large, 1.68e+06. This might indicate that there are\n",
            "strong multicollinearity or other numerical problems.\n",
            "H0 (Null Hypothesis): No significant relationship.\n",
            "HA (Alternative Hypothesis): Significant relationship present.\n",
            "P-values of the coefficients:\n",
            "const           5.083047e-01\n",
            "Open_diff      6.327713e-202\n",
            "High_diff      2.647421e-152\n",
            "Low_diff       7.629242e-210\n",
            "Volume_diff     5.134677e-01\n",
            "dtype: float64\n",
            "Reject H0: Significant relationship present.\n"
          ]
        }
      ]
    }
  ]
}